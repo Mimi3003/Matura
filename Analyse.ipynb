{
 "cells": [
  {
   "cell_type": "code",
   "execution_count": 1,
   "id": "edf81e0d-0318-40c1-a900-0550b74e0c46",
   "metadata": {},
   "outputs": [],
   "source": [
    "%run Maturaarbeit-Copy2.ipynb\n",
    "%run Filter.ipynb\n",
    "import numpy as np\n",
    "import os\n",
    "from PIL import Image\n",
    "import pandas as pd"
   ]
  },
  {
   "cell_type": "code",
   "execution_count": 2,
   "id": "404b6b54-9892-406b-b467-2503db1da0ee",
   "metadata": {},
   "outputs": [
    {
     "name": "stdout",
     "output_type": "stream",
     "text": [
      "['assets\\\\Start\\\\20220827_185329.jpg', 'assets\\\\Start\\\\20220827_200631.jpg', 'assets\\\\Start\\\\20220827_201843.jpg', 'assets\\\\Start\\\\20220827_202512.jpg', 'assets\\\\Start\\\\20220829_224951.jpg', 'assets\\\\Start\\\\20220905_224128.jpg', 'assets\\\\Start\\\\20220909_174623.jpg', 'assets\\\\Start\\\\20220916_153617.jpg', 'assets\\\\Start\\\\20220922_221532.jpg', 'assets\\\\Start\\\\20220922_221549.jpg', 'assets\\\\Start\\\\20220926_131457.jpg', 'assets\\\\Start\\\\20221005_205807.jpg', 'assets\\\\Start\\\\20221005_205823.jpg', 'assets\\\\Start\\\\20221010_140337.jpg', 'assets\\\\Start\\\\20221010_142057.jpg', 'assets\\\\Start\\\\20221010_142324.jpg', 'assets\\\\Start\\\\20221010_143344.jpg', 'assets\\\\Start\\\\20221010_143346.jpg', 'assets\\\\Start\\\\20221010_143352.jpg', 'assets\\\\Start\\\\20221010_143353.jpg', 'assets\\\\Start\\\\20221013_181947.jpg', 'assets\\\\Start\\\\20221013_182107.jpg', 'assets\\\\Start\\\\20221013_182206.jpg', 'assets\\\\Start\\\\20221013_182215.jpg', 'assets\\\\Start\\\\20221013_183016.jpg', 'assets\\\\Start\\\\20221013_183025.jpg', 'assets\\\\Start\\\\20221013_183556.jpg', 'assets\\\\Start\\\\20221013_183600.jpg', 'assets\\\\Start\\\\20221013_183604.jpg', 'assets\\\\Start\\\\20221013_183652.jpg', 'assets\\\\Start\\\\20221013_183713.jpg', 'assets\\\\Start\\\\20221013_183719.jpg', 'assets\\\\Start\\\\20221013_183906.jpg', 'assets\\\\Start\\\\20221013_184622.jpg', 'assets\\\\Start\\\\20221013_184628.jpg', 'assets\\\\Start\\\\20221013_184707.jpg', 'assets\\\\Start\\\\20221013_184714.jpg', 'assets\\\\Start\\\\20221014_162701.jpg', 'assets\\\\Start\\\\20221014_162707.jpg', 'assets\\\\Start\\\\20221014_162723.jpg', 'assets\\\\Start\\\\20221014_162732.jpg', 'assets\\\\Start\\\\20221014_162747.jpg', 'assets\\\\Start\\\\20221014_162758.jpg', 'assets\\\\Start\\\\20221014_162812.jpg', 'assets\\\\Start\\\\20221014_162823.jpg', 'assets\\\\Start\\\\20221014_162828.jpg', 'assets\\\\Start\\\\20221014_162838.jpg', 'assets\\\\Start\\\\20221014_162853.jpg', 'assets\\\\Start\\\\20221014_162859.jpg', 'assets\\\\Start\\\\20221014_163406.jpg', 'assets\\\\Start\\\\20221014_163428.jpg', 'assets\\\\Start\\\\20221014_163432.jpg', 'assets\\\\Start\\\\20221014_163450.jpg', 'assets\\\\Start\\\\20221014_163451.jpg', 'assets\\\\Start\\\\20221014_163509.jpg', 'assets\\\\Start\\\\20221014_163512.jpg', 'assets\\\\Start\\\\20221014_163540.jpg', 'assets\\\\Start\\\\20221014_163542.jpg', 'assets\\\\Start\\\\20221014_163604.jpg', 'assets\\\\Start\\\\20221014_163606.jpg']\n"
     ]
    }
   ],
   "source": [
    "ordner_pfad = \"assets\\\\Start\"\n",
    "LSB_speicher = \"assets\\\\LSB\"\n",
    "AC_speicher = \"assets\\\\Alpha\"\n",
    "bild_pfade = [os.path.join(ordner_pfad, datei) \n",
    "              for datei in os.listdir(ordner_pfad) \n",
    "              if datei.lower().endswith(\".jpg\")]\n",
    "\n",
    "print(bild_pfade)\n",
    "bilder = [np.array(Image.open(pfad).convert(\"RGB\")) for pfad in bild_pfade]"
   ]
  },
  {
   "cell_type": "code",
   "execution_count": 3,
   "id": "e709998f-4764-4d46-8835-ba65c2f7d0fe",
   "metadata": {},
   "outputs": [
    {
     "name": "stdin",
     "output_type": "stream",
     "text": [
      "Nachricht LSB Nachricht\n"
     ]
    }
   ],
   "source": [
    "message = str(input(\"Nachricht\"))"
   ]
  },
  {
   "cell_type": "code",
   "execution_count": 4,
   "id": "a682fbcd-6ecb-4f4a-b861-c46b71f5d3fe",
   "metadata": {},
   "outputs": [],
   "source": [
    "LSB_bilder = []\n",
    "\n",
    "for i, bild in enumerate(bilder):\n",
    "    lsb = LSB(bild.copy(), message)\n",
    "    encoded_image = lsb.encode()\n",
    "    LSB_bilder.append(encoded_image)\n",
    "    \n",
    "    pfad_ziel = os.path.join(LSB_speicher, f\"lsb_encoded_image_{i}.png\")\n",
    "    Image.fromarray(encoded_image.astype(np.uint8)).save(pfad_ziel)\n",
    "\n"
   ]
  },
  {
   "cell_type": "code",
   "execution_count": 5,
   "id": "d016d0b9-3a94-493d-a78b-c10e298899d5",
   "metadata": {},
   "outputs": [
    {
     "name": "stdin",
     "output_type": "stream",
     "text": [
      "Nachricht Alpha Channel Nachricht\n"
     ]
    }
   ],
   "source": [
    "nachricht = str(input(\"Nachricht\"))"
   ]
  },
  {
   "cell_type": "code",
   "execution_count": 1,
   "id": "62c81181-4076-4894-af03-5f050fa7d1f2",
   "metadata": {},
   "outputs": [
    {
     "ename": "NameError",
     "evalue": "name 'bilder' is not defined",
     "output_type": "error",
     "traceback": [
      "\u001b[1;31m---------------------------------------------------------------------------\u001b[0m",
      "\u001b[1;31mNameError\u001b[0m                                 Traceback (most recent call last)",
      "Cell \u001b[1;32mIn[1], line 3\u001b[0m\n\u001b[0;32m      1\u001b[0m AC_bilder \u001b[38;5;241m=\u001b[39m []\n\u001b[1;32m----> 3\u001b[0m \u001b[38;5;28;01mfor\u001b[39;00m i, bild \u001b[38;5;129;01min\u001b[39;00m \u001b[38;5;28menumerate\u001b[39m(bilder):\n\u001b[0;32m      4\u001b[0m     achannel \u001b[38;5;241m=\u001b[39m Alpha_Channel(bild\u001b[38;5;241m.\u001b[39mcopy(), nachricht)\n\u001b[0;32m      5\u001b[0m     encoded \u001b[38;5;241m=\u001b[39m achannel\u001b[38;5;241m.\u001b[39mencode()\n",
      "\u001b[1;31mNameError\u001b[0m: name 'bilder' is not defined"
     ]
    }
   ],
   "source": [
    "AC_bilder = []\n",
    "\n",
    "for i, bild in enumerate(bilder):\n",
    "    achannel = Alpha_Channel(bild.copy(), nachricht)\n",
    "    encoded = achannel.encode()\n",
    "    AC_bilder.append(encoded)\n",
    "    \n",
    "    pfad_ziel = os.path.join(AC_speicher, f\"AC_encoded_image_{i}.png\")\n",
    "    Image.fromarray(encoded.astype(np.uint8), \"RGBA\").save(pfad_ziel)\n"
   ]
  },
  {
   "cell_type": "code",
   "execution_count": 6,
   "id": "b630961c-38e7-4fad-96de-29b26f7620ef",
   "metadata": {},
   "outputs": [],
   "source": [
    "LSB_speicher = \"assets\\\\LSB\"\n",
    "AC_speicher = \"assets\\\\Alpha\"\n",
    "\n",
    "LSB_image = [os.path.join(LSB_speicher, datei) \n",
    "              for datei in os.listdir(LSB_speicher) \n",
    "              if datei.lower().endswith(\".png\")]\n",
    "\n",
    "bilderLSB = [np.array(Image.open(pfad).convert(\"RGB\")) for pfad in LSB_image]\n",
    "\n",
    "AC_image = [os.path.join(AC_speicher, datei) \n",
    "              for datei in os.listdir(AC_speicher) \n",
    "              if datei.lower().endswith(\".png\")]\n",
    "\n",
    "bilderAC = [np.array(Image.open(pfad).convert(\"RGBA\")) for pfad in AC_image]"
   ]
  },
  {
   "cell_type": "code",
   "execution_count": 10,
   "id": "4e06d27b-1bcf-462a-9c08-9c66847a4909",
   "metadata": {},
   "outputs": [],
   "source": [
    "Blur_bilder = []\n",
    "BlurLSB = \"assets\\\\Blur\\\\LSB\"\n",
    "BlurAC = \"assets\\\\Blur\\\\Alpha\"\n",
    "\n",
    "for i, bild in enumerate(bilderLSB):\n",
    "    blur = Blur(bild.copy(), 3)\n",
    "    filterblur = blur.filter()\n",
    "    Blur_bilder.append(filterblur)\n",
    "\n",
    "    pfad_ziel1 = os.path.join(BlurLSB, f\"Blur_LSB_image_{i}.png\")\n",
    "    Image.fromarray(filterblur.astype(np.uint8), \"RGB\").save(pfad_ziel1)\n",
    "\n",
    "for i, bild in enumerate(bilderAC):\n",
    "    blur = Blur(bild.copy(), 3)\n",
    "    filterBlur = blur.filter()\n",
    "    Blur_bilder.append(filterBlur)\n",
    "\n",
    "    pfad_ziel2 = os.path.join(BlurAC, f\"Blur_AC_image_{i}.png\")\n",
    "    Image.fromarray(filterBlur.astype(np.uint8), \"RGBA\").save(pfad_ziel2)\n",
    "\n"
   ]
  },
  {
   "cell_type": "code",
   "execution_count": null,
   "id": "5cddc050-22df-4f80-a65e-74b39c5b0511",
   "metadata": {},
   "outputs": [],
   "source": [
    "Brightness_bilder = []\n",
    "BrightnessLSB = \"assets\\\\Brightness\\\\LSB\"\n",
    "BrightnessAC = \"assets\\\\Brightness\\\\Alpha\"\n",
    "\n",
    "for i, bild in enumerate(bilderLSB):\n",
    "    brightness = Brightness(bild.copy(), 3)\n",
    "    filterblur = brightness.filter()\n",
    "    Brightness_bilder.append(filterblur)\n",
    "\n",
    "    pfad_ziel3 = os.path.join(BrightnessLSB, f\"Brightness_LSB_image_{i}.png\")\n",
    "    Image.fromarray(filterblur.astype(np.uint8), \"RGB\").save(pfad_ziel3)\n",
    "\n",
    "\n",
    "for i, bild in enumerate(bilderAC):\n",
    "    brightness = Brightness(bild.copy(), 3)\n",
    "    filterblur = brightness.filter()\n",
    "    Brightness_bilder.append(filterblur)\n",
    "\n",
    "    pfad_ziel4 = os.path.join(BrightnessAC, f\"Brightness_AC_image_{i}.png\")\n",
    "    Image.fromarray(filterblur.astype(np.uint8), \"RGBA\").save(pfad_ziel4)"
   ]
  },
  {
   "cell_type": "code",
   "execution_count": null,
   "id": "f9d112da-3f45-47b3-acaf-abc80adf7f9b",
   "metadata": {},
   "outputs": [],
   "source": [
    "Contrast_bilder = []\n",
    "ContrastLSB = \"assets\\\\Contrast\\\\LSB\"\n",
    "ContrastAC = \"assets\\\\Contrast\\\\Alpha\"\n",
    "\n",
    "for i, bild in enumerate(bilderLSB):\n",
    "    contrast = Contrast(bild.copy(), 3)\n",
    "    filtercontrast = contrast.filter()\n",
    "    Contrast_bilder.append(filtercontrast)\n",
    "\n",
    "    pfad_ziel5 = os.path.join(ContrastLSB, f\"Contrast_LSB_image_{i}.png\")\n",
    "    Image.fromarray(filtercontrast.astype(np.uint8), \"RGB\").save(pfad_ziel5)\n",
    "\n",
    "for i, bild in enumerate(bilderAC):\n",
    "    contrast = Contrast(bild.copy(), 3)\n",
    "    filterContrast = contrast.filter()\n",
    "    Contrast_bilder.append(filterContrast)\n",
    "\n",
    "    pfad_ziel6 = os.path.join(ContrastAC, f\"Contrast_AC_image_{i}.png\")\n",
    "    Image.fromarray(filterContrast.astype(np.uint8), \"RGBA\").save(pfad_ziel6)\n"
   ]
  },
  {
   "cell_type": "code",
   "execution_count": null,
   "id": "b99936ed-60dd-4be9-9a27-3842a88a2fa4",
   "metadata": {},
   "outputs": [],
   "source": [
    "Gray_bilder = []\n",
    "GrayLSB = \"assets\\\\Gray\\\\LSB\"\n",
    "GrayAC = \"assets\\\\Gray\\\\Alpha\"\n",
    "\n",
    "for i, bild in enumerate(bilderLSB):\n",
    "    gray = Gray(bild.copy())\n",
    "    filtergray = gray.filter()\n",
    "    Gray_bilder.append(filtergray)\n",
    "\n",
    "    pfad_ziel7 = os.path.join(GrayLSB, f\"Gray_LSB_image_{i}.png\")\n",
    "    Image.fromarray(filtergray.astype(np.uint8), \"RGB\").save(pfad_ziel7)\n",
    "\n",
    "for i, bild in enumerate(bilderAC):\n",
    "    gray = Gray(bild.copy())\n",
    "    filterGray = gray.filter()\n",
    "    Gray_bilder.append(filterGray)\n",
    "\n",
    "    pfad_ziel8 = os.path.join(GrayAC, f\"Gray_AC_image_{i}.png\")\n",
    "    Image.fromarray(filterGray.astype(np.uint8), \"RGBA\").save(pfad_ziel8)\n",
    "\n"
   ]
  },
  {
   "cell_type": "code",
   "execution_count": null,
   "id": "ea071c48-c0b8-4f55-92ab-2b27fec6dd8b",
   "metadata": {},
   "outputs": [],
   "source": [
    "RGB_bilder = []\n",
    "RGBLSB = \"assets\\\\RGB\\\\LSB\"\n",
    "RGBAC = \"assets\\\\RGB\\\\Alpha\"\n",
    "\n",
    "for i, bild in enumerate(bilderLSB):\n",
    "    rgb = RGB(bild.copy())\n",
    "    filterrgb = rgb.filter()\n",
    "    RGB_bilder.append(filterrgb)\n",
    "\n",
    "    pfad_ziel9 = os.path.join(RGBLSB, f\"RGB_LSB_image_{i}.png\")\n",
    "    Image.fromarray(filterrgb.astype(np.uint8), \"RGB\").save(pfad_ziel9)\n",
    "\n",
    "for i, bild in enumerate(bilderAC):\n",
    "    rgb = RGB(bild.copy())\n",
    "    filterRGB = rgb.filter()\n",
    "    RGB_bilder.append(filterRGB)\n",
    "\n",
    "    pfad_ziel10 = os.path.join(RGBAC, f\"RGB_AC_image_{i}.png\")\n",
    "    Image.fromarray(filterRGB.astype(np.uint8), \"RGBA\").save(pfad_ziel10)\n",
    "\n"
   ]
  },
  {
   "cell_type": "code",
   "execution_count": null,
   "id": "c1d74ee3-fd47-45b3-b1d9-a9d49ae1c93d",
   "metadata": {},
   "outputs": [],
   "source": [
    "Transparency_bilder = []\n",
    "TransparencyLSB = \"assets\\\\Transparency\\\\LSB\"\n",
    "TransparencyAC = \"assets\\\\Transparency\\\\Alpha\"\n",
    "\n",
    "for i, bild in enumerate(bilderLSB):\n",
    "    transparency = Transparency(bild.copy(), 60)\n",
    "    filtertransparency = transparency.filter()\n",
    "    Transparency_bilder.append(filtertransparency)\n",
    "\n",
    "    pfad_ziel11 = os.path.join(TransparencyLSB, f\"Transparency_LSB_image_{i}.png\")\n",
    "    Image.fromarray(filtertransparency.astype(np.uint8), \"RGBA\").save(pfad_ziel11)\n",
    "\n",
    "for i, bild in enumerate(bilderAC):\n",
    "    transparency = Transparency(bild.copy(), 60)\n",
    "    filterTransparency = transparency.filter()\n",
    "    Transparency_bilder.append(filterTransparency)\n",
    "\n",
    "    pfad_ziel12 = os.path.join(TransparencyAC, f\"Transparency_AC_image_{i}.png\")\n",
    "    Image.fromarray(filterTransparency.astype(np.uint8), \"RGBA\").save(pfad_ziel12)\n",
    "\n"
   ]
  },
  {
   "cell_type": "code",
   "execution_count": 2,
   "id": "b22fd0dc-2002-4f66-9898-94d80f273270",
   "metadata": {},
   "outputs": [],
   "source": [
    "\n",
    "class LSBDecoder:\n",
    "    def __init__(self, ordner_pfad):\n",
    "        self.ordner_pfad = ordner_pfad\n",
    "        self.bild_pfade = self._lade_bildpfade()\n",
    "        self.bilder = self._lade_bilder()\n",
    "        self.nachrichten = []\n",
    "\n",
    "    def _lade_bildpfade(self):\n",
    "        return [\n",
    "            os.path.join(self.ordner_pfad, datei)\n",
    "            for datei in os.listdir(self.ordner_pfad)\n",
    "            if datei.lower().endswith(\".jpg\")\n",
    "        ]\n",
    "\n",
    "    def _lade_bilder(self):\n",
    "        return [\n",
    "            np.array(Image.open(pfad).convert(\"RGB\"))\n",
    "            for pfad in self.bild_pfade\n",
    "        ]\n",
    "\n",
    "    def decode(self):\n",
    "        self.nachrichten = []\n",
    "        for bild in self.bilder:\n",
    "            decoder = LSB(bild.copy(), \"\")\n",
    "            nachricht = decoder.decode()\n",
    "            self.nachrichten.append(nachricht)\n",
    "        return self.nachrichten"
   ]
  },
  {
   "cell_type": "code",
   "execution_count": 3,
   "id": "8e444554-459d-436e-9f14-7dc37454ce48",
   "metadata": {},
   "outputs": [],
   "source": [
    "class AlphaChannelDecoder:\n",
    "    def __init__(self, ordner_pfad):\n",
    "        self.ordner_pfad = ordner_pfad\n",
    "        self.bild_pfade = self._lade_bildpfade()\n",
    "        self.bilder = self._lade_bilder()\n",
    "        self.nachrichten = []\n",
    "\n",
    "    def _lade_bildpfade(self):\n",
    "        return [\n",
    "            os.path.join(self.ordner_pfad, datei)\n",
    "            for datei in os.listdir(self.ordner_pfad)\n",
    "            if datei.lower().endswith(\".png\")\n",
    "        ]\n",
    "\n",
    "    def _lade_bilder(self):\n",
    "        return [\n",
    "            np.array(Image.open(pfad).convert(\"RGBA\"))\n",
    "            for pfad in self.bild_pfade\n",
    "        ]\n",
    "\n",
    "    def decode(self):\n",
    "        self.nachrichten = []\n",
    "        for bild in self.bilder:\n",
    "            decoder = Alpha_Channel(bild.copy(), \"\")\n",
    "            nachricht = decoder.decode()\n",
    "            self.nachrichten.append(nachricht)\n",
    "        return self.nachrichten"
   ]
  },
  {
   "cell_type": "code",
   "execution_count": 4,
   "id": "9d274f5c-087a-4157-9ed5-c06b31a78f7d",
   "metadata": {},
   "outputs": [],
   "source": [
    "class ExcelSpaltenEditor:\n",
    "    def __init__(self, dateipfad):\n",
    "        self.dateipfad = dateipfad\n",
    "        self.df = pd.read_excel(self.dateipfad)\n",
    "\n",
    "    def spalte(self, spaltenname, string_liste):\n",
    "        max_len = max(len(self.df), len(string_liste))\n",
    "        self.df = self.df.reindex(range(max_len))\n",
    "        self.df[spaltenname] = string_liste + [\"\"] * (max_len - len(string_liste))\n",
    "\n",
    "    def speichern(self, neuer_pfad = None):\n",
    "        if neuer_pfad is None:\n",
    "            neuer_pfad = self.dateipfad\n",
    "        self.df.to_excel(neuer_pfad, index=False)\n",
    "        print(f\"Gespeichert unter: {neuer_pfad}\")"
   ]
  },
  {
   "cell_type": "code",
   "execution_count": 5,
   "id": "e2e77955-a8fa-43e4-8808-9c5ea3adec3d",
   "metadata": {},
   "outputs": [
    {
     "ename": "AttributeError",
     "evalue": "'ExcelSpaltenEditor' object has no attribute 'fuege_spalte_hinzu'",
     "output_type": "error",
     "traceback": [
      "\u001b[1;31m---------------------------------------------------------------------------\u001b[0m",
      "\u001b[1;31mAttributeError\u001b[0m                            Traceback (most recent call last)",
      "Cell \u001b[1;32mIn[5], line 41\u001b[0m\n\u001b[0;32m     38\u001b[0m editor \u001b[38;5;241m=\u001b[39m ExcelSpaltenEditor(\u001b[38;5;124m\"\u001b[39m\u001b[38;5;124mAuswertung.xlsx\u001b[39m\u001b[38;5;124m\"\u001b[39m)\n\u001b[0;32m     40\u001b[0m \u001b[38;5;28;01mfor\u001b[39;00m spaltenname, nachrichten_liste \u001b[38;5;129;01min\u001b[39;00m alle_nachrichten\u001b[38;5;241m.\u001b[39mitems():\n\u001b[1;32m---> 41\u001b[0m     editor\u001b[38;5;241m.\u001b[39mfuege_spalte_hinzu(spaltenname, nachrichten_liste)\n\u001b[0;32m     44\u001b[0m editor\u001b[38;5;241m.\u001b[39mspeichern()\n",
      "\u001b[1;31mAttributeError\u001b[0m: 'ExcelSpaltenEditor' object has no attribute 'fuege_spalte_hinzu'"
     ]
    }
   ],
   "source": [
    "\n",
    "filter_ordner = {\n",
    "    \"Blur\": (\"assets\\\\Blur\\\\LSB\", \"assets\\\\Blur\\\\Alpha\"),\n",
    "    \"Brightness\": (\"assets\\\\Brightness\\\\LSB\", \"assets\\\\Brightness\\\\Alpha\"),\n",
    "    \"Contrast\": (\"assets\\\\Contrast\\\\LSB\", \"assets\\\\Contrast\\\\Alpha\"),\n",
    "    \"Gray\": (\"assets\\\\Gray\\\\LSB\", \"assets\\\\Gray\\\\Alpha\"),\n",
    "    \"RGB\": (\"assets\\\\RGB\\\\LSB\", \"assets\\\\RGB\\\\Alpha\"),\n",
    "    \"Transparency\": (\"assets\\\\Transparency\\\\LSB\", \"assets\\\\Transparency\\\\Alpha\")\n",
    "}\n",
    "\n",
    "alle_nachrichten = {}\n",
    "\n",
    "\n",
    "for filter_name, (pfad_lsb, pfad_alpha) in filter_ordner.items():\n",
    "    lsb_bilder = [\n",
    "        np.array(Image.open(os.path.join(pfad_lsb, f)))\n",
    "        for f in os.listdir(pfad_lsb) if f.endswith(\".png\")\n",
    "    ]\n",
    "    alpha_bilder = [\n",
    "        np.array(Image.open(os.path.join(pfad_alpha, f)).convert(\"RGBA\"))\n",
    "        for f in os.listdir(pfad_alpha) if f.endswith(\".png\")\n",
    "    ]\n",
    "\n",
    "\n",
    "    lsb_nachrichten = []\n",
    "    for bild in lsb_bilder:\n",
    "        decoder = LSB(bild.copy(), \"\")\n",
    "        lsb_nachrichten.append(decoder.decode())\n",
    "    alle_nachrichten[f\"{filter_name}_LSB\"] = lsb_nachrichten\n",
    "\n",
    "\n",
    "    alpha_nachrichten = []\n",
    "    for bild in alpha_bilder:\n",
    "        decoder = Alpha_Channel(bild.copy(), \"\")\n",
    "        alpha_nachrichten.append(decoder.decode())\n",
    "    alle_nachrichten[f\"{filter_name}_AC\"] = alpha_nachrichten\n",
    "\n",
    "\n",
    "\n"
   ]
  },
  {
   "cell_type": "code",
   "execution_count": 7,
   "id": "ae705b55-ccbc-4be3-aa45-754041971090",
   "metadata": {},
   "outputs": [],
   "source": [
    "import re\n",
    "\n",
    "def bereinige_text(text):\n",
    " \n",
    "    return re.sub(r'[\\x00-\\x1F\\x7F-\\x9F]', '', text,)"
   ]
  },
  {
   "cell_type": "code",
   "execution_count": 9,
   "id": "4a3bd6ac-f850-46b7-a29d-afcae51e87ad",
   "metadata": {},
   "outputs": [
    {
     "name": "stdout",
     "output_type": "stream",
     "text": [
      "Gespeichert unter: Auswertung.xlsx\n"
     ]
    }
   ],
   "source": [
    "editor = ExcelSpaltenEditor(\"Auswertung.xlsx\")\n",
    "for spaltenname, nachrichten_liste in alle_nachrichten.items():\n",
    "    bereinigte_liste = [bereinige_text(nachricht) for nachricht in nachrichten_liste]\n",
    "    editor.spalte(spaltenname, bereinigte_liste)\n",
    "    \n",
    "\n",
    "editor.speichern()"
   ]
  },
  {
   "cell_type": "code",
   "execution_count": null,
   "id": "693d9833-344e-4bb5-83e2-97c26ecd9ef1",
   "metadata": {},
   "outputs": [],
   "source": []
  }
 ],
 "metadata": {
  "kernelspec": {
   "display_name": "Python 3 (ipykernel)",
   "language": "python",
   "name": "python3"
  },
  "language_info": {
   "codemirror_mode": {
    "name": "ipython",
    "version": 3
   },
   "file_extension": ".py",
   "mimetype": "text/x-python",
   "name": "python",
   "nbconvert_exporter": "python",
   "pygments_lexer": "ipython3",
   "version": "3.12.7"
  }
 },
 "nbformat": 4,
 "nbformat_minor": 5
}
