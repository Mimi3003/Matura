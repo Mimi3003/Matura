{
 "cells": [
  {
   "cell_type": "code",
   "execution_count": 4,
   "id": "195b1c60-7875-4501-8cb0-b5b1a9f842ed",
   "metadata": {
    "scrolled": true
   },
   "outputs": [],
   "source": [
    "import numpy as np\n",
    "from PIL import Image"
   ]
  },
  {
   "cell_type": "code",
   "execution_count": 5,
   "id": "30c5a7ca-0124-4cfc-b6b0-f911227be7bd",
   "metadata": {},
   "outputs": [],
   "source": [
    "class Filter():\n",
    "    def filter():\n",
    "        pass"
   ]
  },
  {
   "cell_type": "code",
   "execution_count": 6,
   "id": "792fd95a-9738-40a5-9db5-d11f0a53e055",
   "metadata": {},
   "outputs": [],
   "source": [
    "class Brightness(Filter):\n",
    "    def __init__(self,image, bright):\n",
    "        self.image = image\n",
    "        self.shape = image.shape\n",
    "        self.bright = bright\n",
    "        self.new_image = self.image.astype(np.float32)\n",
    "\n",
    "\n",
    "    def filter(self):\n",
    "        for row in range(self.shape[0]):\n",
    "            for elem in range(self.shape[1]):\n",
    "                for col in range(3):\n",
    "                    self.new_image[row, elem, col] *= self.bright\n",
    "\n",
    "        self.new_image = np.rint(np.clip(self.new_image, 0, 255)).astype(np.uint8)\n",
    "        \n",
    "        return self.new_image"
   ]
  },
  {
   "cell_type": "code",
   "execution_count": 7,
   "id": "8b1843b7-3091-4b91-a1c5-e581d0189a2f",
   "metadata": {},
   "outputs": [],
   "source": [
    "class Contrast(Filter):\n",
    "    def __init__(self,image, contrast, mid = 127.5):\n",
    "        self.image = image\n",
    "        self.shape = image.shape\n",
    "        self.contrast = contrast\n",
    "        self.new_image = self.image.astype(np.float32)\n",
    "        self.mid = mid\n",
    "\n",
    "\n",
    "    def filter(self):\n",
    "        for row in range(self.shape[0]):\n",
    "            for elem in range(self.shape[1]):\n",
    "                for col in range(3):\n",
    "                    self.new_image[row, elem, col] = (self.new_image[row, elem, col]- self.mid)* self.contrast + self.mid\n",
    "\n",
    "        self.new_image = np.rint(np.clip(self.new_image, 0, 255)).astype(np.uint8)\n",
    "        return self.new_image"
   ]
  },
  {
   "cell_type": "code",
   "execution_count": 8,
   "id": "600c9378-2fa9-4d74-8636-891d21a2a626",
   "metadata": {
    "scrolled": true
   },
   "outputs": [],
   "source": [
    "class Blur(Filter):\n",
    "    def __init__(self,image, size):\n",
    "        self.image = image\n",
    "        self.shape = image.shape\n",
    "        self.size = size\n",
    "        self.new_image = self.image.astype(np.float32)\n",
    "        self.neighbor_range = self.size // 2\n",
    "\n",
    "    def filter(self):\n",
    "        for row in range(self.shape[0]):\n",
    "            for elem in range(self.shape[1]):\n",
    "                for col in range(3):\n",
    "                    total = 0\n",
    "                    count = 0\n",
    "                    for row1 in range(max(0, row - self.neighbor_range), min(self.shape[0], row + self.neighbor_range + 1)):\n",
    "                        for elem1 in range(max(0, elem - self.neighbor_range), min(self.shape[1], elem + self.neighbor_range + 1)):\n",
    "                            total += self.image[row1, elem1, col]\n",
    "                            count += 1\n",
    "                    self.new_image[row, elem, col] = total / count\n",
    "        self.new_image = np.rint(np.clip(self.new_image, 0, 255)).astype(np.uint8)\n",
    "        return self.new_image\n"
   ]
  },
  {
   "cell_type": "code",
   "execution_count": 9,
   "id": "070b828b-ee2a-4c56-be2c-a0862f087b47",
   "metadata": {},
   "outputs": [],
   "source": [
    "class RGB(Filter):\n",
    "    def __init__(self,image):\n",
    "        self.image = image\n",
    "        self.shape = image.shape\n",
    "        self.new_image = self.image.astype(np.float32)\n",
    "    \n",
    "    def filter(self):\n",
    "        for row in range(self.shape[0]):\n",
    "            for elem in range(self.shape[1]):\n",
    "                if self.image[row, elem, 0] > self.image[row, elem, 1] and self.image[row, elem, 0] > self.image[row, elem, 2]:\n",
    "                    self.new_image[row, elem, 0] = 255\n",
    "                    self.new_image[row, elem, 1] = 0\n",
    "                    self.new_image[row, elem, 2] = 0\n",
    "                elif self.image[row, elem, 0] < self.image[row, elem, 1] and self.image[row, elem, 1] > self.image[row, elem, 2]:\n",
    "                    self.new_image[row, elem, 0] = 0\n",
    "                    self.new_image[row, elem, 1] = 255\n",
    "                    self.new_image[row, elem, 2] = 0\n",
    "                elif self.image[row, elem, 2] > self.image[row, elem, 1] and self.image[row, elem, 0] < self.image[row, elem, 2]:\n",
    "                    self.new_image[row, elem, 0] = 0\n",
    "                    self.new_image[row, elem, 1] = 0\n",
    "                    self.new_image[row, elem, 2] = 255\n",
    "                else:\n",
    "                    self.new_image[row, elem, 0] = 255\n",
    "                    self.new_image[row, elem, 1] = 255\n",
    "                    self.new_image[row, elem, 2] = 255\n",
    "\n",
    "        self.new_image = np.rint(np.clip(self.new_image, 0, 255)).astype(np.uint8)\n",
    "        return self.new_image                \n"
   ]
  },
  {
   "cell_type": "code",
   "execution_count": 10,
   "id": "841c1ae6-2c80-4d1d-bb7a-edd76cd9da62",
   "metadata": {},
   "outputs": [],
   "source": [
    "class Gray(Filter):\n",
    "    def __init__(self,image):\n",
    "        self.image = image\n",
    "        self.shape = image.shape\n",
    "        self.new_image = self.image.astype(np.float32)\n",
    "        \n",
    "    def filter(self):\n",
    "        for row in range(self.shape[0]):\n",
    "            for elem in range(self.shape[1]):\n",
    "                gray = (self.image[row, elem, 0] * 0.299 +\n",
    "                        self.image[row, elem, 1] * 0.587 +\n",
    "                        self.image[row, elem, 2] * 0.114)\n",
    "                self.new_image[row, elem, 0] = gray\n",
    "                self.new_image[row, elem, 1] = gray\n",
    "                self.new_image[row, elem, 2] = gray\n",
    "        self.new_image = np.rint(np.clip(self.new_image, 0, 255)).astype(np.uint8)\n",
    "        return self.new_image      \n",
    "        "
   ]
  },
  {
   "cell_type": "code",
   "execution_count": 11,
   "id": "ac8dcf85-2da0-43e4-9709-95d8626a84f4",
   "metadata": {},
   "outputs": [],
   "source": [
    "class Transparency(Filter):\n",
    "    def __init__(self, image, transparency):\n",
    "        self.image = image\n",
    "        self.shape = image.shape\n",
    "\n",
    "        self.transparency = transparency * (-255 / 100) + 255\n",
    "        self.transparency = np.clip(self.transparency, 0, 255)\n",
    "        self.transparency = int(self.transparency)\n",
    "\n",
    "    def image_alpha(self):\n",
    "        self.image = self.image.astype(np.uint8)\n",
    "        img = Image.fromarray(self.image).convert(\"RGBA\")\n",
    "        datum = img.getdata()\n",
    "\n",
    "        newData = []\n",
    "        for item in datum:\n",
    "            if item[0] == 255 and item[1] == 255 and item[2] == 255:\n",
    "                newData.append((255, 255, 255, 0))\n",
    "            else:\n",
    "                newData.append(item)\n",
    "        \n",
    "        img.putdata(newData)\n",
    "        self.image = np.array(img)\n",
    "        return self.image\n",
    "\n",
    "    def filter(self):\n",
    "        self.image_alpha()\n",
    "        \n",
    "        for row in range(self.shape[0]):\n",
    "            for elem in range(self.shape[1]):\n",
    "                if not (self.image[row, elem, 0] == 255 and \n",
    "                        self.image[row, elem, 1] == 255 and \n",
    "                        self.image[row, elem, 2] == 255 and \n",
    "                        self.image[row, elem, 3] == 0):\n",
    "                    self.image[row, elem, 3] = self.transparency\n",
    "        \n",
    "        return self.image.astype(np.uint8)\n"
   ]
  },
  {
   "cell_type": "code",
   "execution_count": null,
   "id": "2f189db2-8f1a-426e-be32-518d4147d315",
   "metadata": {},
   "outputs": [],
   "source": []
  }
 ],
 "metadata": {
  "kernelspec": {
   "display_name": "Python 3 (ipykernel)",
   "language": "python",
   "name": "python3"
  },
  "language_info": {
   "codemirror_mode": {
    "name": "ipython",
    "version": 3
   },
   "file_extension": ".py",
   "mimetype": "text/x-python",
   "name": "python",
   "nbconvert_exporter": "python",
   "pygments_lexer": "ipython3",
   "version": "3.12.7"
  }
 },
 "nbformat": 4,
 "nbformat_minor": 5
}
